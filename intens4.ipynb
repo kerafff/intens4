{
 "cells": [
  {
   "cell_type": "code",
   "execution_count": 46,
   "id": "1634cc7a",
   "metadata": {},
   "outputs": [
    {
     "name": "stdout",
     "output_type": "stream",
     "text": [
      "Requirement already satisfied: pandas in c:\\users\\jacke\\onedrive\\рабочий стол\\intens4\\.venv\\lib\\site-packages (2.2.3)Note: you may need to restart the kernel to use updated packages.\n",
      "\n",
      "Requirement already satisfied: numpy in c:\\users\\jacke\\onedrive\\рабочий стол\\intens4\\.venv\\lib\\site-packages (2.2.5)\n",
      "Requirement already satisfied: seaborn in c:\\users\\jacke\\onedrive\\рабочий стол\\intens4\\.venv\\lib\\site-packages (0.13.2)\n",
      "Requirement already satisfied: matplotlib in c:\\users\\jacke\\onedrive\\рабочий стол\\intens4\\.venv\\lib\\site-packages (3.10.3)\n",
      "Requirement already satisfied: pymorphy2 in c:\\users\\jacke\\onedrive\\рабочий стол\\intens4\\.venv\\lib\\site-packages (0.9.1)\n",
      "Requirement already satisfied: scikit-learn in c:\\users\\jacke\\onedrive\\рабочий стол\\intens4\\.venv\\lib\\site-packages (1.6.1)\n",
      "Requirement already satisfied: tqdm in c:\\users\\jacke\\onedrive\\рабочий стол\\intens4\\.venv\\lib\\site-packages (4.67.1)\n",
      "Requirement already satisfied: python-dateutil>=2.8.2 in c:\\users\\jacke\\onedrive\\рабочий стол\\intens4\\.venv\\lib\\site-packages (from pandas) (2.9.0.post0)\n",
      "Requirement already satisfied: pytz>=2020.1 in c:\\users\\jacke\\onedrive\\рабочий стол\\intens4\\.venv\\lib\\site-packages (from pandas) (2025.2)\n",
      "Requirement already satisfied: tzdata>=2022.7 in c:\\users\\jacke\\onedrive\\рабочий стол\\intens4\\.venv\\lib\\site-packages (from pandas) (2025.2)\n",
      "Requirement already satisfied: contourpy>=1.0.1 in c:\\users\\jacke\\onedrive\\рабочий стол\\intens4\\.venv\\lib\\site-packages (from matplotlib) (1.3.2)\n",
      "Requirement already satisfied: cycler>=0.10 in c:\\users\\jacke\\onedrive\\рабочий стол\\intens4\\.venv\\lib\\site-packages (from matplotlib) (0.12.1)\n",
      "Requirement already satisfied: fonttools>=4.22.0 in c:\\users\\jacke\\onedrive\\рабочий стол\\intens4\\.venv\\lib\\site-packages (from matplotlib) (4.58.0)\n",
      "Requirement already satisfied: kiwisolver>=1.3.1 in c:\\users\\jacke\\onedrive\\рабочий стол\\intens4\\.venv\\lib\\site-packages (from matplotlib) (1.4.8)\n",
      "Requirement already satisfied: packaging>=20.0 in c:\\users\\jacke\\onedrive\\рабочий стол\\intens4\\.venv\\lib\\site-packages (from matplotlib) (25.0)\n",
      "Requirement already satisfied: pillow>=8 in c:\\users\\jacke\\onedrive\\рабочий стол\\intens4\\.venv\\lib\\site-packages (from matplotlib) (11.2.1)\n",
      "Requirement already satisfied: pyparsing>=2.3.1 in c:\\users\\jacke\\onedrive\\рабочий стол\\intens4\\.venv\\lib\\site-packages (from matplotlib) (3.2.3)\n",
      "Requirement already satisfied: dawg-python>=0.7.1 in c:\\users\\jacke\\onedrive\\рабочий стол\\intens4\\.venv\\lib\\site-packages (from pymorphy2) (0.7.2)\n",
      "Requirement already satisfied: pymorphy2-dicts-ru<3.0,>=2.4 in c:\\users\\jacke\\onedrive\\рабочий стол\\intens4\\.venv\\lib\\site-packages (from pymorphy2) (2.4.417127.4579844)\n",
      "Requirement already satisfied: docopt>=0.6 in c:\\users\\jacke\\onedrive\\рабочий стол\\intens4\\.venv\\lib\\site-packages (from pymorphy2) (0.6.2)\n",
      "Requirement already satisfied: scipy>=1.6.0 in c:\\users\\jacke\\onedrive\\рабочий стол\\intens4\\.venv\\lib\\site-packages (from scikit-learn) (1.15.3)\n",
      "Requirement already satisfied: joblib>=1.2.0 in c:\\users\\jacke\\onedrive\\рабочий стол\\intens4\\.venv\\lib\\site-packages (from scikit-learn) (1.5.0)\n",
      "Requirement already satisfied: threadpoolctl>=3.1.0 in c:\\users\\jacke\\onedrive\\рабочий стол\\intens4\\.venv\\lib\\site-packages (from scikit-learn) (3.6.0)\n",
      "Requirement already satisfied: colorama in c:\\users\\jacke\\onedrive\\рабочий стол\\intens4\\.venv\\lib\\site-packages (from tqdm) (0.4.6)\n",
      "Requirement already satisfied: six>=1.5 in c:\\users\\jacke\\onedrive\\рабочий стол\\intens4\\.venv\\lib\\site-packages (from python-dateutil>=2.8.2->pandas) (1.17.0)\n"
     ]
    }
   ],
   "source": [
    "pip install pandas numpy seaborn matplotlib pymorphy2 scikit-learn tqdm"
   ]
  },
  {
   "cell_type": "code",
   "execution_count": 47,
   "id": "4bf255f5",
   "metadata": {},
   "outputs": [
    {
     "data": {
      "text/plain": [
       "(2373, 8)"
      ]
     },
     "execution_count": 47,
     "metadata": {},
     "output_type": "execute_result"
    }
   ],
   "source": [
    "import pandas as pd\n",
    "\n",
    "df = pd.read_csv(\"разметка комментариев 2.csv\")\n",
    "\n",
    "df.shape\n"
   ]
  },
  {
   "cell_type": "code",
   "execution_count": null,
   "id": "47a1dc11",
   "metadata": {},
   "outputs": [
    {
     "data": {
      "text/plain": [
       "(1812, 8)"
      ]
     },
     "execution_count": 48,
     "metadata": {},
     "output_type": "execute_result"
    }
   ],
   "source": [
    "# Удаление дубликатов \n",
    "df = df.drop_duplicates(subset='comment')\n",
    "\n",
    "df.shape  \n"
   ]
  },
  {
   "cell_type": "code",
   "execution_count": 49,
   "id": "86e42206",
   "metadata": {},
   "outputs": [
    {
     "name": "stdout",
     "output_type": "stream",
     "text": [
      "Файл сохранен как 'разметка_без_дубликатов.csv'\n"
     ]
    }
   ],
   "source": [
    "df.to_csv(\"разметка_без_дубликатов.csv\", index=False)\n",
    "print(\"Файл сохранен как 'разметка_без_дубликатов.csv'\")\n"
   ]
  },
  {
   "cell_type": "code",
   "execution_count": 50,
   "id": "13d58b2f",
   "metadata": {},
   "outputs": [],
   "source": [
    "import pymorphy2\n",
    "morph = pymorphy2.MorphAnalyzer()\n",
    "\n",
    "def lemmatize_text(text):\n",
    "    words = str(text).lower().split()\n",
    "    lemmas = [morph.parse(word)[0].normal_form for word in words]\n",
    "    return lemmas\n",
    "\n",
    "# Ключевые слова по категориям\n",
    "keyword_map = {\n",
    "    \"Нравится скорость отработки заявок\": [\"быстро\", \"оперативно\", \"скорость\"],\n",
    "    \"Нравится качество выполнения заявки\": [\"качественно\", \"отлично\", \"хорошо\"],\n",
    "    \"Нравится качество работы сотрудников\": [\"вежливо\", \"спасибо\", \"благодарю\", \"профессионально\", \"мастер\", \"специалист\", \"сотрудник\",],\n",
    "    \"Понравилось выполнение заявки\": [\"выполнить\", \"сделать\", \"хорошо\", \"спасибо\", \"благодарю\", ],\n",
    "    \"Вопрос решен\": [\"решить\", \"устранить\", \"помочь\" \"закрыт\", \"выполнена\",]\n",
    "}\n",
    "\n",
    "def classify_comment(comment):\n",
    "    lemmas = lemmatize_text(comment)\n",
    "    result = {}\n",
    "    for category, keywords in keyword_map.items():\n",
    "        result[category] = int(any(word in lemmas for word in keywords))\n",
    "    return result\n"
   ]
  },
  {
   "cell_type": "code",
   "execution_count": null,
   "id": "e9d3515c",
   "metadata": {},
   "outputs": [
    {
     "name": "stderr",
     "output_type": "stream",
     "text": [
      "100%|██████████| 1812/1812 [00:02<00:00, 604.35it/s]\n"
     ]
    },
    {
     "name": "stdout",
     "output_type": "stream",
     "text": [
      "Матрица признаков: (1812, 5000)\n",
      "Целевые переменные: (1812, 6)\n"
     ]
    }
   ],
   "source": [
    "import pandas as pd\n",
    "import pymorphy2\n",
    "from sklearn.feature_extraction.text import TfidfVectorizer\n",
    "from tqdm import tqdm\n",
    "\n",
    "tqdm.pandas()\n",
    "morph = pymorphy2.MorphAnalyzer()\n",
    "\n",
    "# Лемматизация\n",
    "def lemmatize_text(text):\n",
    "    words = str(text).lower().split()\n",
    "    lemmas = [morph.parse(word)[0].normal_form for word in words]\n",
    "    return \" \".join(lemmas)\n",
    "\n",
    "# Загрузка размеченного CSV\n",
    "df = pd.read_csv(\"readyrazmet.csv\")  \n",
    "df.dropna(subset=[\"comment\"], inplace=True)\n",
    "\n",
    "# Лемматизация текста\n",
    "df[\"lemmatized\"] = df[\"comment\"].progress_apply(lemmatize_text)\n",
    "\n",
    "# Векторизация TF-IDF\n",
    "vectorizer = TfidfVectorizer(max_features=5000, ngram_range=(1, 2))\n",
    "X = vectorizer.fit_transform(df[\"lemmatized\"])\n",
    "\n",
    "# Целевые переменные\n",
    "target_columns = [col for col in df.columns if col not in [\"comment\", \"lemmatized\", \"id\", \"rating\"]]\n",
    "\n",
    "y = df[target_columns]\n",
    "\n",
    "print(f\"Матрица признаков: {X.shape}\")\n",
    "print(f\"Целевые переменные: {y.shape}\")\n"
   ]
  },
  {
   "cell_type": "code",
   "execution_count": null,
   "id": "71c5932c",
   "metadata": {},
   "outputs": [
    {
     "name": "stdout",
     "output_type": "stream",
     "text": [
      "✅ Отчет по качеству классификации:\n",
      "\n",
      "Категория: Нравится скорость отработки заявок\n",
      "              precision    recall  f1-score   support\n",
      "\n",
      "           0       0.92      0.94      0.93       287\n",
      "           1       0.76      0.67      0.71        76\n",
      "\n",
      "    accuracy                           0.89       363\n",
      "   macro avg       0.84      0.81      0.82       363\n",
      "weighted avg       0.88      0.89      0.88       363\n",
      "\n",
      "\n",
      "Категория: Нравится качество выполнения заявки\n",
      "              precision    recall  f1-score   support\n",
      "\n",
      "           0       0.97      0.97      0.97       345\n",
      "           1       0.40      0.33      0.36        18\n",
      "\n",
      "    accuracy                           0.94       363\n",
      "   macro avg       0.68      0.65      0.67       363\n",
      "weighted avg       0.94      0.94      0.94       363\n",
      "\n",
      "\n",
      "Категория: Нравится качество работы сотрудников\n",
      "              precision    recall  f1-score   support\n",
      "\n",
      "           0       0.87      0.91      0.89       234\n",
      "           1       0.83      0.75      0.79       129\n",
      "\n",
      "    accuracy                           0.86       363\n",
      "   macro avg       0.85      0.83      0.84       363\n",
      "weighted avg       0.86      0.86      0.86       363\n",
      "\n",
      "\n",
      "Категория: Понравилось выполнение заявки\n",
      "              precision    recall  f1-score   support\n",
      "\n",
      "           0       0.87      0.90      0.89       228\n",
      "           1       0.83      0.78      0.80       135\n",
      "\n",
      "    accuracy                           0.86       363\n",
      "   macro avg       0.85      0.84      0.84       363\n",
      "weighted avg       0.86      0.86      0.86       363\n",
      "\n",
      "\n",
      "Категория: Вопрос решен\n",
      "              precision    recall  f1-score   support\n",
      "\n",
      "           0       0.99      1.00      1.00       336\n",
      "           1       1.00      0.89      0.94        27\n",
      "\n",
      "    accuracy                           0.99       363\n",
      "   macro avg       1.00      0.94      0.97       363\n",
      "weighted avg       0.99      0.99      0.99       363\n",
      "\n",
      "\n",
      "Категория: Без категории\n",
      "              precision    recall  f1-score   support\n",
      "\n",
      "           0       0.83      0.88      0.85       208\n",
      "           1       0.82      0.77      0.79       155\n",
      "\n",
      "    accuracy                           0.83       363\n",
      "   macro avg       0.83      0.82      0.82       363\n",
      "weighted avg       0.83      0.83      0.83       363\n",
      "\n"
     ]
    }
   ],
   "source": [
    "from sklearn.ensemble import RandomForestClassifier\n",
    "from sklearn.multioutput import MultiOutputClassifier\n",
    "from sklearn.model_selection import train_test_split\n",
    "from sklearn.metrics import classification_report\n",
    "from sklearn.metrics import hamming_loss, accuracy_score\n",
    "\n",
    "# Разделение на обучающую и тестовую выборку\n",
    "X_train, X_test, y_train, y_test = train_test_split(\n",
    "    X, y, test_size=0.2, random_state=42\n",
    ")\n",
    "\n",
    "# Инициализация модели\n",
    "base_model = RandomForestClassifier(n_estimators=100, random_state=42)\n",
    "model = MultiOutputClassifier(base_model)\n",
    "\n",
    "\n",
    "\n",
    "# Обучение\n",
    "model.fit(X_train, y_train)\n",
    "\n",
    "\n",
    "\n",
    "# Предсказание\n",
    "y_pred = model.predict(X_test)\n",
    "\n",
    "\n",
    "\n",
    "# Оценка модели\n",
    "print(\"✅ Отчет по качеству классификации:\")\n",
    "\n",
    "for i, column in enumerate(y.columns):\n",
    "    print(f\"\\nКатегория: {column}\")\n",
    "    print(classification_report(y_test.iloc[:, i], y_pred[:, i]))"
   ]
  }
 ],
 "metadata": {
  "kernelspec": {
   "display_name": ".venv",
   "language": "python",
   "name": "python3"
  },
  "language_info": {
   "codemirror_mode": {
    "name": "ipython",
    "version": 3
   },
   "file_extension": ".py",
   "mimetype": "text/x-python",
   "name": "python",
   "nbconvert_exporter": "python",
   "pygments_lexer": "ipython3",
   "version": "3.10.0"
  }
 },
 "nbformat": 4,
 "nbformat_minor": 5
}
